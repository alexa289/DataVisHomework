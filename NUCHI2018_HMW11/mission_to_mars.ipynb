{
 "cells": [
  {
   "cell_type": "code",
   "execution_count": 1,
   "metadata": {
    "collapsed": true
   },
   "outputs": [],
   "source": [
    "# Import Dependencies\n",
    "import requests as req\n",
    "import pandas as pd\n",
    "import time\n",
    "from bs4 import BeautifulSoup as bs\n",
    "from splinter import Browser\n"
   ]
  },
  {
   "cell_type": "code",
   "execution_count": 2,
   "metadata": {
    "collapsed": true
   },
   "outputs": [],
   "source": [
    "#--- STEP 1 - Scraping ---\n",
    "# NASA Mars News"
   ]
  },
  {
   "cell_type": "code",
   "execution_count": 3,
   "metadata": {},
   "outputs": [
    {
     "name": "stdout",
     "output_type": "stream",
     "text": [
      "The latest News Title from Mission to Mars is: NASA’s First Mission to Study the Interior of Mars Awaits May 5 Launch\n",
      "The content of the latest News Title from Mission to Mars is: All systems are go for NASA’s next launch to the Red Planet. \n"
     ]
    }
   ],
   "source": [
    "executable_path = {\"executable_path\": \"chrome/chromedriver\"}\n",
    "browser = Browser(\"chrome\", **executable_path, headless=False)\n",
    "\n",
    "mars_url = \"https://mars.nasa.gov/news/\"\n",
    "browser.visit(mars_url)\n",
    "\n",
    "html_browser = browser.html\n",
    "news_from_mars = bs(html_browser, 'html.parser')\n",
    "\n",
    "#Use prettify to inspect the html doc \n",
    "#print(news_from_mars.prettify())\n",
    "\n",
    "#Check the elements to know where to find the div element that contains title  \n",
    "news_title = news_from_mars.find('div', class_='content_title').text\n",
    "#Print the latest title\n",
    "print(\"The latest News Title from Mission to Mars is:\",news_title)\n",
    "\n",
    "#Check the elements to know where to find the div element that contains paragraph  \n",
    "news_paragraph = news_from_mars.find('div', class_=\"rollover_description_inner\").text\n",
    "#Print the paragraph from the latest title\n",
    "print(\"The content of the latest News Title from Mission to Mars is:\",news_paragraph)"
   ]
  },
  {
   "cell_type": "code",
   "execution_count": 4,
   "metadata": {
    "collapsed": true
   },
   "outputs": [],
   "source": [
    "#---JPL MARS Space Images - Featured Image"
   ]
  },
  {
   "cell_type": "code",
   "execution_count": 5,
   "metadata": {},
   "outputs": [
    {
     "name": "stdout",
     "output_type": "stream",
     "text": [
      "https://www.jpl.nasa.gov/spaceimages/images/mediumsize/PIA15254_ip.jpg\n"
     ]
    }
   ],
   "source": [
    "# Point to JPL's Featured Space Images page. \n",
    "jpl_mars_url = \"https://www.jpl.nasa.gov/spaceimages/?search=&category=Mars\"\n",
    "browser.visit(jpl_mars_url)\n",
    "\n",
    "# Scrape the browser to navigate the site and find the image url for the current Featured Mars Image \n",
    "html_browser = browser.html\n",
    "jpl_mars = bs(html_browser, 'html.parser')\n",
    "\n",
    "#Use prettify to inspect the html doc \n",
    "#print(jpl_mars.prettify())\n",
    "\n",
    "\n",
    "#find the url of the img\n",
    "img_url = jpl_mars.find('a', {'id': 'full_image', 'data-fancybox-href': True}).get('data-fancybox-href')\n",
    "#get the base url from the href of the webpage (jpl_logo class)\n",
    "base_jpl_href = jpl_mars.find_all('div', class_='jpl_logo')\n",
    "#use BS to create obkect, parse with lxml\n",
    "jpl_logo_soup = bs(html_browser, 'lxml')\n",
    "#loop through all the href of the url\n",
    "\n",
    "# Get all the hrefs of the url\n",
    "href_list = []\n",
    "for href in jpl_logo_soup.find_all('a'):\n",
    "    href_list.append(href.get('href'))\n",
    " #print(href_list)\n",
    "\n",
    "#retrieve the path for jpl.nasa\n",
    "jpl_nasa_path = href_list[1].strip('/')\n",
    "#jpl_nasa_path\n",
    "\n",
    "# Assign the url string to a variable called featured_image_url\n",
    "featured_image_url = '%s%s%s'%(\"https://\",jpl_nasa_path,img_url)\n",
    "print(featured_image_url)"
   ]
  },
  {
   "cell_type": "code",
   "execution_count": 6,
   "metadata": {
    "collapsed": true
   },
   "outputs": [],
   "source": [
    "#---Mars Weather---"
   ]
  },
  {
   "cell_type": "code",
   "execution_count": 7,
   "metadata": {},
   "outputs": [
    {
     "name": "stdout",
     "output_type": "stream",
     "text": [
      "Sol 2039 (May 02, 2018), Sunny, high 0C/32F, low -74C/-101F, pressure at 7.28 hPa, daylight 05:23-17:20\n"
     ]
    }
   ],
   "source": [
    "# Point to Mars weather twitter page. \n",
    "twitter_url = \"https://twitter.com/marswxreport?lang=en\"\n",
    "browser.visit(twitter_url)\n",
    "\n",
    "# Scrape the browser to navigate the site and get the latest Mars weather tweet from the page.\n",
    "html_browser = browser.html\n",
    "mars_twitter = bs(html_browser, 'html.parser')\n",
    "\n",
    "#inspect the weather tweet\n",
    "weather_tweet = mars_twitter.find('p', class_='TweetTextSize TweetTextSize--normal js-tweet-text tweet-text')\n",
    "\n",
    "#Save the tweet text for the weather report as a variable called mars_weather.\n",
    "mars_weather = weather_tweet.text\n",
    "print(mars_weather)"
   ]
  },
  {
   "cell_type": "code",
   "execution_count": 8,
   "metadata": {
    "collapsed": true
   },
   "outputs": [],
   "source": [
    "#---Mars Facts --"
   ]
  },
  {
   "cell_type": "code",
   "execution_count": 9,
   "metadata": {},
   "outputs": [
    {
     "name": "stdout",
     "output_type": "stream",
     "text": [
      "<table border=\"1\" class=\"dataframe mars-facts\">  <thead>    <tr style=\"text-align: right;\">      <th></th>      <th>Data</th>    </tr>    <tr>      <th>Parameters</th>      <th></th>    </tr>  </thead>  <tbody>    <tr>      <th>Equatorial Diameter:</th>      <td>6,792 km</td>    </tr>    <tr>      <th>Polar Diameter:</th>      <td>6,752 km</td>    </tr>    <tr>      <th>Mass:</th>      <td>6.42 x 10^23 kg (10.7% Earth)</td>    </tr>    <tr>      <th>Moons:</th>      <td>2 (Phobos &amp; Deimos)</td>    </tr>    <tr>      <th>Orbit Distance:</th>      <td>227,943,824 km (1.52 AU)</td>    </tr>    <tr>      <th>Orbit Period:</th>      <td>687 days (1.9 years)</td>    </tr>    <tr>      <th>Surface Temperature:</th>      <td>-153 to 20 °C</td>    </tr>    <tr>      <th>First Record:</th>      <td>2nd millennium BC</td>    </tr>    <tr>      <th>Recorded By:</th>      <td>Egyptian astronomers</td>    </tr>  </tbody></table>\n"
     ]
    }
   ],
   "source": [
    "# Point to Mars Facts webpage. \n",
    "mars_facts_url = \"https://space-facts.com/mars/\"\n",
    "browser.visit(mars_facts_url)\n",
    "\n",
    "# Scrape the browser to navigate the site and get the Mars facts\n",
    "html_browser = browser.html\n",
    "mars_facts = bs(html_browser, 'html.parser')\n",
    "\n",
    "# Convert the url to a pandas df\n",
    "mars_facts_pd = pd.read_html(mars_facts_url)\n",
    "mars_facts_pd\n",
    "mars_facts_df = pd.DataFrame(mars_facts_pd[0])\n",
    "mars_facts_df\n",
    "\n",
    "# Define column names   \n",
    "mars_facts_df.columns = ['Parameters','Data']\n",
    "#Set the index\n",
    "mars_facts_df2 = mars_facts_df.set_index(\"Parameters\")\n",
    "mars_facts_df2\n",
    "\n",
    "#Convert the dataframe to an html object and remove unnecesary \\n\n",
    "mars_facts_html=mars_facts_df2.to_html(classes='mars-facts')\n",
    "mars_facts_html\n",
    "mars_facts_html_table = mars_facts_html.replace('\\n', '')\n",
    "print(mars_facts_html_table)"
   ]
  },
  {
   "cell_type": "code",
   "execution_count": 10,
   "metadata": {
    "collapsed": true
   },
   "outputs": [],
   "source": [
    "#---Mars Hemispheres---"
   ]
  },
  {
   "cell_type": "code",
   "execution_count": 11,
   "metadata": {
    "collapsed": true
   },
   "outputs": [],
   "source": [
    "# Point to USGS Astrology webpage. \n",
    "mars_hemispheres_url = \"https://astrogeology.usgs.gov/search/results?q=hemisphere+enhanced&k1=target&v1=Mars\"\n",
    "browser.visit(mars_hemispheres_url)\n",
    "\n",
    "# Scrape the browser to navigate the site and get high resolution images for each Mars hemisphere\n",
    "html_browser = browser.html\n",
    "mars_hemisphere = bs(html_browser, 'html.parser')\n",
    "\n",
    "#print(mars_hemispheres.prettify())\n",
    "#Get the element \"div\" with the imgs\n",
    "div_images = mars_hemisphere.find('div', class_='collapsible results')\n",
    "#print(div_images.prettify())"
   ]
  },
  {
   "cell_type": "code",
   "execution_count": 12,
   "metadata": {},
   "outputs": [
    {
     "name": "stdout",
     "output_type": "stream",
     "text": [
      "[{'img_title': 'Cerberus Hemisphere Enhanced', 'img_url': 'http://astropedia.astrogeology.usgs.gov/download/Mars/Viking/cerberus_enhanced.tif/full.jpg'}, {'img_title': 'Cerberus Hemisphere Enhanced', 'img_url': 'http://astropedia.astrogeology.usgs.gov/download/Mars/Viking/cerberus_enhanced.tif/full.jpg'}, {'img_title': 'Cerberus Hemisphere Enhanced', 'img_url': 'http://astropedia.astrogeology.usgs.gov/download/Mars/Viking/cerberus_enhanced.tif/full.jpg'}, {'img_title': 'Valles Marineris Hemisphere Unenhanced', 'img_url': 'http://astropedia.astrogeology.usgs.gov/download/Mars/Viking/valles_marineris_unenhanced.tif/full.jpg'}]\n"
     ]
    }
   ],
   "source": [
    "#Loop through the class=\"item\" by clicking the h3 tag and getting the image title and its url. \n",
    "\n",
    "hemispheres_img_url_list = []\n",
    "\n",
    "for img in range(len(div_images.find_all(\"div\", class_=\"item\"))):\n",
    "    time.sleep(2)\n",
    "    img_header = browser.find_by_tag('h3')\n",
    "    img_header[img].click()\n",
    "    html_b = browser.html\n",
    "    html_soup = bs(html_b, 'html.parser')\n",
    "    h2_title = html_soup.find(\"h2\", class_=\"title\").text\n",
    "    div = html_soup.find(\"div\", class_=\"downloads\")\n",
    "    #for li in div:\n",
    "    a = div.find('a')\n",
    "    href_url = a.attrs['href']\n",
    "    hemispheres = {\n",
    "            'img_title' : h2_title,\n",
    "            'img_url' : href_url\n",
    "        }\n",
    "    hemispheres_img_url_list.append(hemispheres)\n",
    "\n",
    "print(hemispheres_img_url_list)"
   ]
  }
 ],
 "metadata": {
  "kernelspec": {
   "display_name": "Python 3",
   "language": "python",
   "name": "python3"
  },
  "language_info": {
   "codemirror_mode": {
    "name": "ipython",
    "version": 3
   },
   "file_extension": ".py",
   "mimetype": "text/x-python",
   "name": "python",
   "nbconvert_exporter": "python",
   "pygments_lexer": "ipython3",
   "version": "3.6.3"
  }
 },
 "nbformat": 4,
 "nbformat_minor": 2
}
