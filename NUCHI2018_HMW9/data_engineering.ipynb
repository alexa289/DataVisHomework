{
 "cells": [
  {
   "cell_type": "code",
   "execution_count": 1,
   "metadata": {
    "collapsed": true
   },
   "outputs": [],
   "source": [
    "# Dependencies\n",
    "import pandas as pd\n",
    "import numpy as np\n",
    "import os"
   ]
  },
  {
   "cell_type": "code",
   "execution_count": 3,
   "metadata": {},
   "outputs": [],
   "source": [
    "# Path of the CSV file\n",
    "stations=\"Resources/hawaii_stations.csv\"\n",
    "measurements=\"Resources/hawaii_measurements.csv\"\n",
    "# Read CSV file into a pandas DataFrame\n",
    "stations_pd=pd.read_csv(stations,dtype=object)\n",
    "measurements_pd=pd.read_csv(measurements,dtype=object)\n",
    "stations_df=pd.DataFrame(stations_pd)\n",
    "measurements_df=pd.DataFrame(measurements_pd)"
   ]
  },
  {
   "cell_type": "code",
   "execution_count": 7,
   "metadata": {},
   "outputs": [],
   "source": [
    "#-------------STEP 1 - Clean the Data - ----------------\n",
    "# Preview DataFrame\n",
    "measurements_df.head()\n",
    "\n",
    "# Inspect measurements dataframe\n",
    "measurements_df.shape\n",
    "\n",
    "#Check missing values\n",
    "measurements_df.count()\n",
    "\n",
    "#Check for null values in measurements DF\n",
    "# Note that some rows are missing prcp\n",
    "measurements_df.isnull().sum()\n",
    "\n",
    "# Check for duplicates in measurements DataFrame\n",
    "#Note no duplicates\n",
    "measurements_df.duplicated().sum()\n",
    "\n",
    "# Use 'dropna' to drop any rows where there is missing data\n",
    "# Notice that index has not been reset and contains a gap \n",
    "measurements_df2 = measurements_df.dropna(axis=0)\n",
    "measurements_df2.shape\n",
    "measurements_df2.head()\n",
    "\n",
    "# Create a new csv for the cleaned data using the prefix clean_\n",
    "measurements_df2.to_csv(\"Resources/clean_hawaii_measurements.csv\", index=False)"
   ]
  },
  {
   "cell_type": "code",
   "execution_count": 8,
   "metadata": {
    "collapsed": true
   },
   "outputs": [],
   "source": [
    "# Preview DataFrame\n",
    "stations_df.head()\n",
    "\n",
    "# Inspect stations dataframe\n",
    "stations_df.shape\n",
    "#Check missing values\n",
    "stations_df.count()\n",
    "\n",
    "#Check for null values in stations DF\n",
    "#Note no null\n",
    "stations_df.isnull().sum()\n",
    "\n",
    "# Check for duplicates in stations DataFrame\n",
    "#Note no duplicates\n",
    "stations_df.duplicated().sum()\n",
    "# Note there is nothing to clean\n",
    "\n",
    "# Create a new csv for the cleaned data using the prefix clean_\n",
    "stations_df.to_csv(\"Resources/clean_hawaii_stations.csv\", index=False)"
   ]
  }
 ],
 "metadata": {
  "kernelspec": {
   "display_name": "Python 3",
   "language": "python",
   "name": "python3"
  }
 },
 "nbformat": 4,
 "nbformat_minor": 2
}
